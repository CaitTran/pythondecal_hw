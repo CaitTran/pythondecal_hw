import numpy as np


#1 Odd Ones Out


arr = np.array([[1, 2, 3], [5, 7, 9], [2, 4, 6], [7, 7, 7]])

print(arr)



arr[1, :]


arr[3, :]


#attempt #1
def onlyOdd(cluster_array):
    new_clusters_odd_only = []
    new_clusters_odd_only.append(arr[1, :])
    new_clusters_odd_only.append(arr[3, :])
    new_clusters_odd_only = np.reshape(new_clusters_odd_only, (2, 3))
    return new_clusters_odd_only

answer1 = onlyOdd(arr)
print(answer1)


#attempt #2
def onlyOdd_test(cluster_array):
    new_clusters_odd_only = []
    for x in arr:
        for value in arr[x, :]:
            if value % 2 != 0:
                new_clusters_odd_only.append[x, :]
    return new_clusters_odd_only

answer1 = onlyOdd_test(arr)
print(answer1)


#attempt #3
def onlyOdd_test(cluster_array):
    new_clusters_odd_only = []
    for x in cluster_array[x, :]:
        if x.all() % 2 != 0:
            new_clusters_odd_only.append[x, :]
    return new_clusters_odd_only

answer1 = onlyOdd_test(arr)
print(answer1)


#attempt #3 (final attempt)
def onlyOdd_test(cluster_array):
    odd_rows = arr[np.all(cluster_array % 2 != 0, axis=1)] #axis=1 means to check if all the values in a row (column-wise, number by number) align with the condition given before
    return odd_rows

answer1 = onlyOdd_test(arr) #arr as in the array, not the function
print(answer1)


#2 Let's Play Checkers!


#2.1
checkerboard = np.zeros((8, 8), dtype='int16')
print(checkerboard)


#2.2
checkerboard[0::2, 0::2] = 1 #every other row starting at the 0th row ("0::2"), every other number starting at the 0th index ("0::2")
print(checkerboard)


#2.3
checkerboard[1::2, 1::2] = 1 #every other row starting at the 1st row ("1::2"), every other number starting at the 1st index ("1::2")
print(checkerboard)


#2.4
reverse_checkerboard =  np.zeros((8, 8), dtype='int16')
reverse_checkerboard[0::2, 1::2] = 1 
reverse_checkerboard[1::2, 0::2] = 1
print(reverse_checkerboard)


#3 The Expanding Universe
#Test
space_str = '2' * 4
print(space_str)

print("_________________________")

#Test 2
test = np.str.join(' ', 'galaxy')
print(test)


universe = np.array(['galaxy', 'clusters'])
print(universe)

def expansion(array_1, num_1):
    space_str = ' ' * num_1 
    #will return a string whose length depends on the value of num_1: if num_1 = 1, space_str = ' '; if num_1 = 5, space_str = '     '. 
    expanded_array_1 = np.char.join(space_str, array_1)
    #adds the space_str in between every character within the array_1: if num_1 = 1, expanded_array_1 = 'e x a m p l e' (with 1 space in between every letter of 'example')
    return expanded_array_1

expansion(universe, 1)


#4 
np.random.seed(42)
#for every time the command below is ran (w/ seed = 42), the "random" numbers will be the same because the seed is 42. like minecraft
planets = np.random.randint(100, 1000, size=(5, 5))
print(planets)


def secondLargest(array_2):
    #initialize an empty array to hold results
    second_largest_values_collection = np.empty(array.shape[1])
    



