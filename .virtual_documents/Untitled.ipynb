#1) How many plots?


import numpy as np
import matplotlib.pyplot as plt
import math


#1. Write a function that takes three arguments (x data, amplitude A, wavelength w) & returns a sinusoid

def sinusoid(x, A, w):
    first = np.sin(w * x)
    second = A * first
    return second

#test
print(sinusoid(4, 3, 2))


#2. Create an array to be your x data from 0-2pi of 1000 points

x_data = np.linspace(0, 2 * np.pi, 1000)
#np.linspace returns evenly spaced numbers over a specified interval
#(start, end, # of points)

#test
print(x_data[:5])


#3. Create an array of 5 different amplitude A values and a separate array of 5 different w values

amplitude_values = np.array([1, 2, 3, 4, 5])
wavelength_values = np.array([1, 2, 3, 4, 5])


#4. Create a figure object to plot your graphs onto
plt.figure()


#5. Loop through each pair of A and w values.

for A in amplitude_values:
    #for every A
    for w in wavelength_values:
        #give every A every w, make every combination possible (should give 25)
        y_data = sinusoid(x_data, A, w)
        #y_data is equal to the function that takes in x and the constants A & w that multiply to x
        plt.plot(x_data, y_data)

plt.title("25 sine functions")
plt.ylabel("y data")
plt.xlabel("x data")


#2.) Randomness


np.random.seed(1)
x = np.random.randint(0, 100, 40)
y = x

print(x)


np.random.seed(2)
x2 = np.random.randint(0, 100, 40)
y2 = x2

print(x2)


plt.figure(figsize = (10, 10))


plt.plot(x, y, color = "orange", linewidth = 10)
plt.plot(x2, y2, color = "red", linestyle = "dashed")
plt.legend(["graph1", "graph2"], loc = "upper left")
plt.xlabel("x")
plt.ylabel("y")
plt.title("2 lines with random x values")



