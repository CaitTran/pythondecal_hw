import numpy as np
import matplotlib.pyplot as plt
import pandas as pd
import seaborn as sns
from scipy.optimize import curve_fit
from scipy.stats import pearsonr


exoplanets = pd.read_csv("exoplanets.csv", skiprows = 98)
exoplanets


data = exoplanets.loc[:,['pl_name', 'pl_orbsmax', 'pl_radj', 'pl_bmassj', 'pl_dens', 'pl_insol', 'pl_eqt', 'st_spectype', 'st_teff', 'pl_ratdor', 'sy_dist']]

plot_data = data.loc[:, ['st_spectype', 'pl_name', 'pl_orbsmax', 'st_teff', 'pl_ratdor', 'sy_dist']]
plot_data.insert(1, "habitability", "")

data


for i in range(data.shape[0]):
  h = 0
  d = 0
  if data.iloc[i, 2] < 0.098131 and data.iloc[i, 2] > 0.080289:
      #create a ratio to multiply to h (the points)
    r = (data.iloc[i, 2])/0.098131
      #document the points
    h += 10*r
      #add to scale d (number of categories)
    d += 1
  if data.iloc[i, 3] < 0.003460138 and data.iloc[i, 3] > 0.002831022:
    r = (data.iloc[i, 3])/0.003460138
    h += 10*r
    d += 1
  if data.iloc[i, 4] < 6.601 and data.iloc[i, 4] > 4.959:
    r = (data.iloc[i, 4])/6.601
    h += 10*r
    d += 1
  if data.iloc[i, 5] != 'NaN':
    d += 1
  if data.iloc[i, 5] < 1507 and data.iloc[i, 5] > 1233:
    h += 10
  if data.iloc[i, 6] != 'NaN':
    d += 1
  if data.iloc[i, 6] < 280.5 and data.iloc[i, 6] > 229.5:
    h += 1
  plot_data.iloc[i, 1] = h/d


plot_data.sort_values(by=['habitability'], ascending = False)


plot_data = plot_data[plot_data['habitability'] > 0]
plot_data = plot_data[plot_data['st_teff'] != "NaN"]
plot_data.sort_values(by=['habitability'], ascending = False)


#Curve fit the graph of Habitability vs. Distance from Host Star
def func(x, m, b):
    return m*x + b


x_data = plot_data["pl_orbsmax"]
y_data = plot_data["habitability"]

p0 = [0, 3]
x_data


#Find parameters and covariance of parameters
popt, pcov = curve_fit(func, x_data, y_data, p0)


popt


#covariances returned as infinities
pcov


#Against Orbital Radius w Curve Fit
plt.figure()
sns.scatterplot(data = plot_data, x = "pl_orbsmax", y = "habitability", hue = "st_spectype")
plt.plot(plot_data["pl_orbsmax"], func(plot_data["pl_orbsmax"], popt[0], popt[1]), color = "red")
plt.xscale("log")
plt.ylim([-1, 10])

plt.title("Habitability versus Distance from Host Star")
plt.xlabel("Distance from Host Star (AU)")
plt.ylabel("Habitability (Generated Data)")
plt.grid()
plt.legend(loc = "upper right", bbox_to_anchor = (1.5, 1))
plt.show()


#Attempt Error (How accurate the curve-fit is to the data)
chi2 = sum(((plot_data["habitability"] - func(plot_data["pl_orbsmax"], popt[0], popt[1])) / plot_data["habitability"])**2)


chi2


#Spectral Temp vs. Distance from Host Star
plt.figure()
sns.scatterplot(data = plot_data, x = plot_data["pl_orbsmax"], y = plot_data["st_teff"], hue = "st_spectype")
plt.xscale("log")
plt.yscale("log")

plt.title("Spectral Temperature versus Distance from Host Star")
plt.xlabel("Distance from Host Star (AU)")
plt.ylabel("Spectral Temperature (K)")
plt.grid()
plt.legend(loc = "upper right", bbox_to_anchor = (1.5, 1))
plt.show()


def func(x, a, b):
    return 0

plot_data = plot_data.dropna(subset=["habitability", "st_teff"])
x,y = np.log(plot_data["pl_orbsmax"]), np.log(plot_data["st_teff"])
plt.scatter(x,y)

p0 = [1, 9]
par, cov = curve_fit(func, x, y, p0)
p,r,v = np.polyfit(x,y,2)


plt.figure()
sns.scatterplot(data = plot_data, x = "pl_orbsmax", y = "habitability", hue = "st_spectype")
plt.plot(plot_data["pl_orbsmax"], rect_hyperbola(x_data,0.3, 0.5, 0, -1))
plt.xscale("log")


plt.title("Habitability versus Distance from Host Star")
plt.xlabel("Distance from Host Star (AU)")
plt.ylabel("Habitability (Generated Data)")
plt.grid()
plt.legend(loc = "upper right", bbox_to_anchor = (1.5, 1))
plt.show()


pearson_r, pearson_p_value = pearsonr(x_data2, plot_data["habitability"])
print(pearson_r)
print(pearson_p_value)


x_data2 = np.linspace(10**(-2), 10**2, num = 867)


len(plot_data["habitability"])


#Against Spectral Temperature (Comparing to other variables to see correlation)
plt.figure()
sns.scatterplot(data = plot_data, x = "st_teff", y = "habitability", hue = "st_spectype")
plt.xscale("log")
plt.ylim([-1, 10])

plt.title("Habitability versus Spectral Temperature")
plt.xlabel("Spectral Temp")
plt.ylabel("Habitability (Generated Data)")
plt.grid()
plt.legend(loc = "upper right", bbox_to_anchor = (1.5, 1))
plt.show()












