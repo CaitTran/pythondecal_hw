import numpy as np
import matplotlib.pyplot as plt
import pandas as pd
import seaborn as sns
from scipy.optimize import curve_fit


exoplanets = pd.read_csv("exoplanets.csv", skiprows = 98)
exoplanets


data = exoplanets.loc[:,['pl_name', 'pl_orbsmax', 'pl_radj', 'pl_bmassj', 'pl_dens', 'pl_insol', 'pl_eqt', 'st_spectype', 'st_teff', 'pl_ratdor', 'sy_dist']]

plot_data = data.loc[:, ['st_spectype', 'pl_name', 'pl_orbsmax', 'st_teff', 'pl_ratdor', 'sy_dist']]
plot_data.insert(1, "habitability", "")

data


for i in range(data.shape[0]):
  h = 0
  d = 0
  if data.iloc[i, 2] < 0.098131 and data.iloc[i, 2] > 0.080289:
      #create a ratio to multiply to h (the points)
    r = (data.iloc[i, 2])/0.098131
      #document the points
    h += 10*r
      #add to scale d (number of categories)
    d += 1
  if data.iloc[i, 3] < 0.003460138 and data.iloc[i, 3] > 0.002831022:
    r = (data.iloc[i, 3])/0.003460138
    h += 10*r
    d += 1
  if data.iloc[i, 4] < 6.601 and data.iloc[i, 4] > 4.959:
    r = (data.iloc[i, 4])/6.601
    h += 10*r
    d += 1
  if data.iloc[i, 5] != 'NaN':
    d += 1
  if data.iloc[i, 5] < 1507 and data.iloc[i, 5] > 1233:
    h += 1
  if data.iloc[i, 6] != 'NaN':
    d += 1
  if data.iloc[i, 6] < 280.5 and data.iloc[i, 6] > 229.5:
    h += 1
  plot_data.iloc[i, 1] = h/d


plot_data.sort_values(by=['habitability'], ascending = False)


def rect_hyperbola(x, a, c, b, p):
    return (a + c*(x-b)**p)

x_data = plot_data["pl_orbsmax"]
y_data = plot_data["habitability"]

p0 = [0.3, 0.5, 0, -1]
params, covariance = curve_fit(rect_hyperbola, x_data, y_data, p0)


params


covariance



plt.scatter(x_data, y_data, label="Data")
plt.plot(x_data, rect_hyperbola(x_data, *p0), label="Initial Guess", color="red")
plt.legend()
plt.show()



def linear(x, m, b):
    return m*x + b


p0 = [-1, 0.5]
params, covariance = curve_fit(linear, x_data, y_data, p0)


params


fit = np.polyfit(np.log(x_data), y_data, 1)


plt.figure()
sns.scatterplot(data = plot_data, x = "pl_orbsmax", y = "habitability", hue = "st_spectype")
plt.plot(plot_data["pl_orbsmax"], rect_hyperbola(x_data,0.3, 0.5, 0, -1))
plt.xscale("log")


plt.title("Habitability versus Distance from Host Star")
plt.xlabel("Distance from Host Star (AU)")
plt.ylabel("Habitability (Generated Data)")
plt.grid()
plt.legend(loc = "upper right", bbox_to_anchor = (1.5, 1))
plt.show()


#Against Orbital Radius
plt.figure()
sns.scatterplot(data = plot_data, x = "pl_orbsmax", y = "habitability", hue = "st_spectype")
plt.xscale("log")
plt.ylim([-1, 10])

plt.title("Habitability versus Distance from Host Star")
plt.xlabel("Distance from Host Star (AU)")
plt.ylabel("Habitability (Generated Data)")
plt.grid()
plt.legend(loc = "upper right", bbox_to_anchor = (1.5, 1))
plt.show()


#Against Spectral Temperature
plt.figure()
sns.scatterplot(data = plot_data, x = "st_teff", y = "habitability", hue = "st_spectype")
plt.xscale("log")
plt.ylim([-1, 10])

plt.title("Habitability versus Spectral Temperature")
plt.xlabel("Spectral Temp")
plt.ylabel("Habitability (Generated Data)")
plt.grid()
plt.legend(loc = "upper right", bbox_to_anchor = (1.5, 1))
plt.show()


import matplotlib.pyplot as plt
import seaborn as sns

# Ensure the 'pl_orbsmax' is positive for log scale
if (plot_data["pl_orbsmax"] <= 0).any():
    print("Warning: Some 'pl_orbsmax' values are <= 0, which won't work for log scale. Adjusting or filtering data.")
    plot_data = plot_data[plot_data["pl_orbsmax"] > 0]  # Optionally filter out non-positive values

# Use the correct 'x' values for both the scatter plot and the prediction
x_data = plot_data["pl_orbsmax"]

# Generate predicted y-values using the fitted model
y_pred = rect_hyperbola(x_data, c)

# Plotting
plt.figure()
sns.scatterplot(data=plot_data, x="pl_orbsmax", y="habitability", hue="st_spectype")

# Plot the fitted curve
plt.plot(x_data, y_pred, color='red', label="Fitted Hyperbola")

# Set x-axis to log scale
plt.xscale("log")

# Set labels and title
plt.title("Habitability versus Distance from Host Star")
plt.xlabel("Distance from Host Star (AU)")
plt.ylabel("Habitability (Generated Data)")

# Show grid and legend
plt.grid()
plt.legend(loc="upper right", bbox_to_anchor=(1.5, 1))

# Display the plot
plt.show()



#Against Semi-Major Axis to Stellar Radius
plt.figure()
sns.scatterplot(data = plot_data, x = "pl_ratdor", y = "habitability", hue = "st_spectype")
plt.xscale("log")
plt.ylim([-2, 10])

plt.title("Habitability versus Semi-Major Axis to Stellar Radius Ratio")
plt.xlabel("Ratio")
plt.ylabel("Habitability (Generated Data)")
plt.grid()
plt.legend(loc = "upper right", bbox_to_anchor = (1.5, 1))
plt.show()


#Against Distance to Planetary System
plt.figure()
sns.scatterplot(data = plot_data, x = "sy_dist", y = "habitability", hue = "st_spectype")
plt.xscale("log")
plt.ylim([-2, 10])

plt.title("Habitability versus Distance to Planetary System")
plt.xlabel("Distance to Planetary System (Parsecs)")
plt.ylabel("Habitability (Generated Data)")
plt.grid()
plt.legend(loc = "upper right", bbox_to_anchor = (1.5, 1))
plt.show()






