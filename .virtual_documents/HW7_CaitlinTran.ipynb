import pandas as pd
import numpy as np
import matplotlib.pyplot as plt


#1 Analyzing Air Quality Data


#1.1
pd.read_csv("global_air_quality.csv")
df = pd.read_csv("global_air_quality.csv")
df


#1.2
df["PM25_Value"] = df["FactValueNumeric"]
print(df[["FactValueNumeric", "PM25_Value"]])


#1.3

df.sort_values(["ParentLocation"])

continent_averages = df.groupby(["ParentLocation"])["PM25_Value"].mean()
continent_averages


df = df.merge(continent_averages, on='ParentLocation', how='left')


df.rename(columns = {"PM25_Value_x": "PM25_Value", "PM25_Value_y": "Average_PM25"}, inplace = True)


df


#1.4
df.sort_values(["Average_PM25"], ascending = False) 


highest_pollution = df.sort_values(["Average_PM25"], ascending = False)
highest_pollution_list = highest_pollution[0:10]
highest_pollution_list

#Answer: The continent with the highest average air pollution is the Eastern Mediterranean.
#It doesn't really surprise me because in developing countries, the fuel available is often dirtier fuels such as coal and natural materials. That would naturally cause more air pollution.


#1.5
new_df = df[["Location", "ParentLocation", "PM25_Value", "Average_PM25"]]
new_df.to_csv("PM25_Averages_by_Location.csv")


#2 Planets, planets, planets!


import seaborn as sns


sns.load_dataset('planets')


pnts = sns.load_dataset('planets')
pnts


#2.1
plot = sns.scatterplot(data = pnts, x = pnts["orbital_period"], y = pnts["mass"], hue = pnts["method"])
plot.set(title ="Planets' Mass Correlation to Orbital Period")
plot.set_xlabel("Orbital Period (Unit: Earth Days)")
plot.set_ylabel("Mass (Unit: Jupiter Masses)")
plot.set_xscale("log")
plot.legend(bbox_to_anchor = (1.1, 1))


#2.2
#Attempt 1 (Ignore pls)
bar_plot = sns.barplot(data = pnts, x = pnts["year"], y = pnts["number"],hue = pnts["method"])
bar_plot.set(title = "Planets Discovered per Year (Grouped by Discovery Method)")
bar_plot.set_xlabel("Year")
bar_plot.set_ylabel("Exoplanets Discovered")


#Attempt 2
hist_plot = sns.histplot(data = pnts, x = pnts["year"],hue = pnts["method"], multiple = "stack")
hist_plot.set(title = "Planets Discovered per Year (Grouped by Discovery Method)")
hist_plot.set_xlabel("Year")
hist_plot.set_ylabel("Exoplanets Discovered")



