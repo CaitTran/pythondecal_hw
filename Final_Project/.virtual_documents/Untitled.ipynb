import numpy as np
import matplotlib.pyplot as plt
import pandas as pd
import seaborn as sns


exoplanets = pd.read_csv("nasaexoplanetdata.csv", skiprows = 88)
exoplanets


data = exoplanets.loc[:,["pl_name", "pl_orbper", "pls_orbsmax", "pl_radj", "pl_masssj", "pl_dens", "pl_insol", "pl_eqt", "st_spectyle"]]
data






