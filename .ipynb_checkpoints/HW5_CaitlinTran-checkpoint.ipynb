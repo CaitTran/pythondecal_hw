{
 "cells": [
  {
   "cell_type": "code",
   "execution_count": 7,
   "id": "5d8a236c-e6a2-4201-b4ab-7b34ab732643",
   "metadata": {},
   "outputs": [],
   "source": [
    "import numpy as np"
   ]
  },
  {
   "cell_type": "code",
   "execution_count": 87,
   "id": "885029dd-463c-4ff1-a1f2-8f31722a6ec7",
   "metadata": {},
   "outputs": [],
   "source": [
    "#1 Odd Ones Out"
   ]
  },
  {
   "cell_type": "code",
   "execution_count": 21,
   "id": "90e70704-3a1b-4eb1-ba82-c78c87c5e0a5",
   "metadata": {},
   "outputs": [
    {
     "name": "stdout",
     "output_type": "stream",
     "text": [
      "[[1 2 3]\n",
      " [5 7 9]\n",
      " [2 4 6]\n",
      " [7 7 7]]\n"
     ]
    }
   ],
   "source": [
    "arr = np.array([[1, 2, 3], [5, 7, 9], [2, 4, 6], [7, 7, 7]])\n",
    "\n",
    "print(arr)\n"
   ]
  },
  {
   "cell_type": "code",
   "execution_count": 25,
   "id": "c2b90b6a-8c9d-4645-8ca7-351a987884bc",
   "metadata": {},
   "outputs": [
    {
     "data": {
      "text/plain": [
       "array([5, 7, 9])"
      ]
     },
     "execution_count": 25,
     "metadata": {},
     "output_type": "execute_result"
    }
   ],
   "source": [
    "arr[1, :]"
   ]
  },
  {
   "cell_type": "code",
   "execution_count": 19,
   "id": "1671b22c-5ec8-4575-b7ea-b1e7156b17dd",
   "metadata": {},
   "outputs": [
    {
     "data": {
      "text/plain": [
       "array([7, 7, 7])"
      ]
     },
     "execution_count": 19,
     "metadata": {},
     "output_type": "execute_result"
    }
   ],
   "source": [
    "arr[3, :]"
   ]
  },
  {
   "cell_type": "code",
   "execution_count": 64,
   "id": "6bc8df43-90de-47b1-aa6b-046b9e02686a",
   "metadata": {},
   "outputs": [
    {
     "name": "stdout",
     "output_type": "stream",
     "text": [
      "[[5 7 9]\n",
      " [7 7 7]]\n"
     ]
    }
   ],
   "source": [
    "#attempt #1\n",
    "def onlyOdd(cluster_array):\n",
    "    new_clusters_odd_only = []\n",
    "    new_clusters_odd_only.append(arr[1, :])\n",
    "    new_clusters_odd_only.append(arr[3, :])\n",
    "    new_clusters_odd_only = np.reshape(new_clusters_odd_only, (2, 3))\n",
    "    return new_clusters_odd_only\n",
    "\n",
    "answer1 = onlyOdd(arr)\n",
    "print(answer1)"
   ]
  },
  {
   "cell_type": "code",
   "execution_count": 66,
   "id": "a2e128f0-edbf-4957-83f8-5e63806c6249",
   "metadata": {},
   "outputs": [
    {
     "ename": "ValueError",
     "evalue": "The truth value of an array with more than one element is ambiguous. Use a.any() or a.all()",
     "output_type": "error",
     "traceback": [
      "\u001b[0;31m---------------------------------------------------------------------------\u001b[0m",
      "\u001b[0;31mValueError\u001b[0m                                Traceback (most recent call last)",
      "Cell \u001b[0;32mIn[66], line 10\u001b[0m\n\u001b[1;32m      7\u001b[0m                 new_clusters_odd_only\u001b[38;5;241m.\u001b[39mappend[x, :]\n\u001b[1;32m      8\u001b[0m     \u001b[38;5;28;01mreturn\u001b[39;00m new_clusters_odd_only\n\u001b[0;32m---> 10\u001b[0m answer1 \u001b[38;5;241m=\u001b[39m onlyOdd_test(arr)\n\u001b[1;32m     11\u001b[0m \u001b[38;5;28mprint\u001b[39m(answer1)\n",
      "Cell \u001b[0;32mIn[66], line 6\u001b[0m, in \u001b[0;36monlyOdd_test\u001b[0;34m(cluster_array)\u001b[0m\n\u001b[1;32m      4\u001b[0m \u001b[38;5;28;01mfor\u001b[39;00m x \u001b[38;5;129;01min\u001b[39;00m arr:\n\u001b[1;32m      5\u001b[0m     \u001b[38;5;28;01mfor\u001b[39;00m value \u001b[38;5;129;01min\u001b[39;00m arr[x, :]:\n\u001b[0;32m----> 6\u001b[0m         \u001b[38;5;28;01mif\u001b[39;00m value \u001b[38;5;241m%\u001b[39m \u001b[38;5;241m2\u001b[39m \u001b[38;5;241m!=\u001b[39m \u001b[38;5;241m0\u001b[39m:\n\u001b[1;32m      7\u001b[0m             new_clusters_odd_only\u001b[38;5;241m.\u001b[39mappend[x, :]\n\u001b[1;32m      8\u001b[0m \u001b[38;5;28;01mreturn\u001b[39;00m new_clusters_odd_only\n",
      "\u001b[0;31mValueError\u001b[0m: The truth value of an array with more than one element is ambiguous. Use a.any() or a.all()"
     ]
    }
   ],
   "source": [
    "#attempt #2\n",
    "def onlyOdd_test(cluster_array):\n",
    "    new_clusters_odd_only = []\n",
    "    for x in arr:\n",
    "        for value in arr[x, :]:\n",
    "            if value % 2 != 0:\n",
    "                new_clusters_odd_only.append[x, :]\n",
    "    return new_clusters_odd_only\n",
    "\n",
    "answer1 = onlyOdd_test(arr)\n",
    "print(answer1)"
   ]
  },
  {
   "cell_type": "code",
   "execution_count": 68,
   "id": "7ef80762-3b53-487a-9ec8-979d287f15ae",
   "metadata": {},
   "outputs": [
    {
     "ename": "UnboundLocalError",
     "evalue": "cannot access local variable 'x' where it is not associated with a value",
     "output_type": "error",
     "traceback": [
      "\u001b[0;31m---------------------------------------------------------------------------\u001b[0m",
      "\u001b[0;31mUnboundLocalError\u001b[0m                         Traceback (most recent call last)",
      "Cell \u001b[0;32mIn[68], line 9\u001b[0m\n\u001b[1;32m      6\u001b[0m             new_clusters_odd_only\u001b[38;5;241m.\u001b[39mappend[x, :]\n\u001b[1;32m      7\u001b[0m     \u001b[38;5;28;01mreturn\u001b[39;00m new_clusters_odd_only\n\u001b[0;32m----> 9\u001b[0m answer1 \u001b[38;5;241m=\u001b[39m onlyOdd_test(arr)\n\u001b[1;32m     10\u001b[0m \u001b[38;5;28mprint\u001b[39m(answer1)\n",
      "Cell \u001b[0;32mIn[68], line 4\u001b[0m, in \u001b[0;36monlyOdd_test\u001b[0;34m(cluster_array)\u001b[0m\n\u001b[1;32m      2\u001b[0m \u001b[38;5;28;01mdef\u001b[39;00m \u001b[38;5;21monlyOdd_test\u001b[39m(cluster_array):\n\u001b[1;32m      3\u001b[0m     new_clusters_odd_only \u001b[38;5;241m=\u001b[39m []\n\u001b[0;32m----> 4\u001b[0m     \u001b[38;5;28;01mfor\u001b[39;00m x \u001b[38;5;129;01min\u001b[39;00m cluster_array[x, :]:\n\u001b[1;32m      5\u001b[0m         \u001b[38;5;28;01mif\u001b[39;00m x\u001b[38;5;241m.\u001b[39mall() \u001b[38;5;241m%\u001b[39m \u001b[38;5;241m2\u001b[39m \u001b[38;5;241m!=\u001b[39m \u001b[38;5;241m0\u001b[39m:\n\u001b[1;32m      6\u001b[0m             new_clusters_odd_only\u001b[38;5;241m.\u001b[39mappend[x, :]\n",
      "\u001b[0;31mUnboundLocalError\u001b[0m: cannot access local variable 'x' where it is not associated with a value"
     ]
    }
   ],
   "source": [
    "#attempt #3\n",
    "def onlyOdd_test(cluster_array):\n",
    "    new_clusters_odd_only = []\n",
    "    for x in cluster_array[x, :]:\n",
    "        if x.all() % 2 != 0:\n",
    "            new_clusters_odd_only.append[x, :]\n",
    "    return new_clusters_odd_only\n",
    "\n",
    "answer1 = onlyOdd_test(arr)\n",
    "print(answer1)"
   ]
  },
  {
   "cell_type": "code",
   "execution_count": 81,
   "id": "0908e40f-41d6-4e61-9eb1-9c27fe38613a",
   "metadata": {},
   "outputs": [
    {
     "name": "stdout",
     "output_type": "stream",
     "text": [
      "[[5 7 9]\n",
      " [7 7 7]]\n"
     ]
    }
   ],
   "source": [
    "#attempt #3 (final attempt)\n",
    "def onlyOdd_test(cluster_array):\n",
    "    odd_rows = arr[np.all(cluster_array % 2 != 0, axis=1)] #axis=1 means to check if all the values in a row (column-wise, number by number) align with the condition given before\n",
    "    return odd_rows\n",
    "\n",
    "answer1 = onlyOdd_test(arr) #arr as in the array, not the function\n",
    "print(answer1)"
   ]
  },
  {
   "cell_type": "code",
   "execution_count": null,
   "id": "60010c65-d7fe-4d07-9b0f-cb806f348994",
   "metadata": {},
   "outputs": [],
   "source": [
    "#2 Let's Play Checkers!"
   ]
  },
  {
   "cell_type": "code",
   "execution_count": 160,
   "id": "47ccd062-fb58-48fe-b6b1-cd4419c3a024",
   "metadata": {},
   "outputs": [
    {
     "name": "stdout",
     "output_type": "stream",
     "text": [
      "[[0 0 0 0 0 0 0 0]\n",
      " [0 0 0 0 0 0 0 0]\n",
      " [0 0 0 0 0 0 0 0]\n",
      " [0 0 0 0 0 0 0 0]\n",
      " [0 0 0 0 0 0 0 0]\n",
      " [0 0 0 0 0 0 0 0]\n",
      " [0 0 0 0 0 0 0 0]\n",
      " [0 0 0 0 0 0 0 0]]\n"
     ]
    }
   ],
   "source": [
    "#2.1\n",
    "checkerboard = np.zeros((8, 8), dtype='int16')\n",
    "print(checkerboard)"
   ]
  },
  {
   "cell_type": "code",
   "execution_count": 172,
   "id": "f75d50c2-6e4a-4142-84fe-085045a4c39c",
   "metadata": {},
   "outputs": [
    {
     "name": "stdout",
     "output_type": "stream",
     "text": [
      "[[1 0 1 0 1 0 1 0]\n",
      " [0 1 0 1 0 1 0 1]\n",
      " [1 0 1 0 1 0 1 0]\n",
      " [0 1 0 1 0 1 0 1]\n",
      " [1 0 1 0 1 0 1 0]\n",
      " [0 1 0 1 0 1 0 1]\n",
      " [1 0 1 0 1 0 1 0]\n",
      " [0 1 0 1 0 1 0 1]]\n"
     ]
    }
   ],
   "source": [
    "#2.2\n",
    "checkerboard[0::2, 0::2] = 1 #every other row starting at the 0th row (\"0::2\"), every other number starting at the 0th index (\"0::2\")\n",
    "print(checkerboard)"
   ]
  },
  {
   "cell_type": "code",
   "execution_count": 174,
   "id": "805d4a9c-8f1c-45ad-baec-408299d8e99a",
   "metadata": {},
   "outputs": [
    {
     "name": "stdout",
     "output_type": "stream",
     "text": [
      "[[1 0 1 0 1 0 1 0]\n",
      " [0 1 0 1 0 1 0 1]\n",
      " [1 0 1 0 1 0 1 0]\n",
      " [0 1 0 1 0 1 0 1]\n",
      " [1 0 1 0 1 0 1 0]\n",
      " [0 1 0 1 0 1 0 1]\n",
      " [1 0 1 0 1 0 1 0]\n",
      " [0 1 0 1 0 1 0 1]]\n"
     ]
    }
   ],
   "source": [
    "#2.3\n",
    "checkerboard[1::2, 1::2] = 1 #every other row starting at the 1st row (\"1::2\"), every other number starting at the 1st index (\"1::2\")\n",
    "print(checkerboard)"
   ]
  },
  {
   "cell_type": "code",
   "execution_count": 178,
   "id": "d3055143-1a4d-4128-942f-6295231e76e6",
   "metadata": {},
   "outputs": [
    {
     "name": "stdout",
     "output_type": "stream",
     "text": [
      "[[0 1 0 1 0 1 0 1]\n",
      " [1 0 1 0 1 0 1 0]\n",
      " [0 1 0 1 0 1 0 1]\n",
      " [1 0 1 0 1 0 1 0]\n",
      " [0 1 0 1 0 1 0 1]\n",
      " [1 0 1 0 1 0 1 0]\n",
      " [0 1 0 1 0 1 0 1]\n",
      " [1 0 1 0 1 0 1 0]]\n"
     ]
    }
   ],
   "source": [
    "#2.4\n",
    "reverse_checkerboard =  np.zeros((8, 8), dtype='int16')\n",
    "reverse_checkerboard[0::2, 1::2] = 1 \n",
    "reverse_checkerboard[1::2, 0::2] = 1\n",
    "print(reverse_checkerboard)"
   ]
  },
  {
   "cell_type": "code",
   "execution_count": 232,
   "id": "28ee4447-66db-4b4e-8fa0-9af474ecbca2",
   "metadata": {},
   "outputs": [
    {
     "name": "stdout",
     "output_type": "stream",
     "text": [
      "2222\n",
      "_________________________\n"
     ]
    },
    {
     "name": "stderr",
     "output_type": "stream",
     "text": [
      "/var/folders/yr/z3bmf_254gs6t4r3xpst1g3r0000gn/T/ipykernel_31049/4041328933.py:9: FutureWarning: In the future `np.str` will be defined as the corresponding NumPy scalar.\n",
      "  test = np.str.join(' ', 'galaxy')\n"
     ]
    },
    {
     "ename": "AttributeError",
     "evalue": "module 'numpy' has no attribute 'str'.\n`np.str` was a deprecated alias for the builtin `str`. To avoid this error in existing code, use `str` by itself. Doing this will not modify any behavior and is safe. If you specifically wanted the numpy scalar type, use `np.str_` here.\nThe aliases was originally deprecated in NumPy 1.20; for more details and guidance see the original release note at:\n    https://numpy.org/devdocs/release/1.20.0-notes.html#deprecations",
     "output_type": "error",
     "traceback": [
      "\u001b[0;31m---------------------------------------------------------------------------\u001b[0m",
      "\u001b[0;31mAttributeError\u001b[0m                            Traceback (most recent call last)",
      "Cell \u001b[0;32mIn[232], line 9\u001b[0m\n\u001b[1;32m      6\u001b[0m \u001b[38;5;28mprint\u001b[39m(\u001b[38;5;124m\"\u001b[39m\u001b[38;5;124m_________________________\u001b[39m\u001b[38;5;124m\"\u001b[39m)\n\u001b[1;32m      8\u001b[0m \u001b[38;5;66;03m#Test 2\u001b[39;00m\n\u001b[0;32m----> 9\u001b[0m test \u001b[38;5;241m=\u001b[39m np\u001b[38;5;241m.\u001b[39mstr\u001b[38;5;241m.\u001b[39mjoin(\u001b[38;5;124m'\u001b[39m\u001b[38;5;124m \u001b[39m\u001b[38;5;124m'\u001b[39m, \u001b[38;5;124m'\u001b[39m\u001b[38;5;124mgalaxy\u001b[39m\u001b[38;5;124m'\u001b[39m)\n\u001b[1;32m     10\u001b[0m \u001b[38;5;28mprint\u001b[39m(test)\n",
      "File \u001b[0;32m/opt/anaconda3/lib/python3.12/site-packages/numpy/__init__.py:324\u001b[0m, in \u001b[0;36m__getattr__\u001b[0;34m(attr)\u001b[0m\n\u001b[1;32m    319\u001b[0m     warnings\u001b[38;5;241m.\u001b[39mwarn(\n\u001b[1;32m    320\u001b[0m         \u001b[38;5;124mf\u001b[39m\u001b[38;5;124m\"\u001b[39m\u001b[38;5;124mIn the future `np.\u001b[39m\u001b[38;5;132;01m{\u001b[39;00mattr\u001b[38;5;132;01m}\u001b[39;00m\u001b[38;5;124m` will be defined as the \u001b[39m\u001b[38;5;124m\"\u001b[39m\n\u001b[1;32m    321\u001b[0m         \u001b[38;5;124m\"\u001b[39m\u001b[38;5;124mcorresponding NumPy scalar.\u001b[39m\u001b[38;5;124m\"\u001b[39m, \u001b[38;5;167;01mFutureWarning\u001b[39;00m, stacklevel\u001b[38;5;241m=\u001b[39m\u001b[38;5;241m2\u001b[39m)\n\u001b[1;32m    323\u001b[0m \u001b[38;5;28;01mif\u001b[39;00m attr \u001b[38;5;129;01min\u001b[39;00m __former_attrs__:\n\u001b[0;32m--> 324\u001b[0m     \u001b[38;5;28;01mraise\u001b[39;00m \u001b[38;5;167;01mAttributeError\u001b[39;00m(__former_attrs__[attr])\n\u001b[1;32m    326\u001b[0m \u001b[38;5;28;01mif\u001b[39;00m attr \u001b[38;5;241m==\u001b[39m \u001b[38;5;124m'\u001b[39m\u001b[38;5;124mtesting\u001b[39m\u001b[38;5;124m'\u001b[39m:\n\u001b[1;32m    327\u001b[0m     \u001b[38;5;28;01mimport\u001b[39;00m \u001b[38;5;21;01mnumpy\u001b[39;00m\u001b[38;5;21;01m.\u001b[39;00m\u001b[38;5;21;01mtesting\u001b[39;00m \u001b[38;5;28;01mas\u001b[39;00m \u001b[38;5;21;01mtesting\u001b[39;00m\n",
      "\u001b[0;31mAttributeError\u001b[0m: module 'numpy' has no attribute 'str'.\n`np.str` was a deprecated alias for the builtin `str`. To avoid this error in existing code, use `str` by itself. Doing this will not modify any behavior and is safe. If you specifically wanted the numpy scalar type, use `np.str_` here.\nThe aliases was originally deprecated in NumPy 1.20; for more details and guidance see the original release note at:\n    https://numpy.org/devdocs/release/1.20.0-notes.html#deprecations"
     ]
    }
   ],
   "source": [
    "#3 The Expanding Universe\n",
    "#Test\n",
    "space_str = '2' * 4\n",
    "print(space_str)\n",
    "\n",
    "print(\"_________________________\")\n",
    "\n",
    "#Test 2\n",
    "test = np.str.join(' ', 'galaxy')\n",
    "print(test)"
   ]
  },
  {
   "cell_type": "code",
   "execution_count": 234,
   "id": "b427f36e-11f3-4e7d-a24e-ec420a97a0c9",
   "metadata": {},
   "outputs": [
    {
     "name": "stdout",
     "output_type": "stream",
     "text": [
      "['galaxy' 'clusters']\n"
     ]
    },
    {
     "data": {
      "text/plain": [
       "array(['g a l a x y', 'c l u s t e r s'], dtype='<U15')"
      ]
     },
     "execution_count": 234,
     "metadata": {},
     "output_type": "execute_result"
    }
   ],
   "source": [
    "universe = np.array(['galaxy', 'clusters'])\n",
    "print(universe)\n",
    "\n",
    "def expansion(array_1, num_1):\n",
    "    space_str = ' ' * num_1 \n",
    "    #will return a string whose length depends on the value of num_1: if num_1 = 1, space_str = ' '; if num_1 = 5, space_str = '     '. \n",
    "    expanded_array_1 = np.char.join(space_str, array_1)\n",
    "    #adds the space_str in between every character within the array_1: if num_1 = 1, expanded_array_1 = 'e x a m p l e' (with 1 space in between every letter of 'example')\n",
    "    return expanded_array_1\n",
    "\n",
    "expansion(universe, 1)"
   ]
  },
  {
   "cell_type": "code",
   "execution_count": 249,
   "id": "ace957c7-0a61-4ffd-972f-c56fb531508a",
   "metadata": {},
   "outputs": [
    {
     "name": "stdout",
     "output_type": "stream",
     "text": [
      "[[202 535 960 370 206]\n",
      " [171 800 120 714 221]\n",
      " [566 314 430 558 187]\n",
      " [472 199 971 763 230]\n",
      " [761 408 869 443 591]]\n"
     ]
    }
   ],
   "source": [
    "#4 \n",
    "np.random.seed(42)\n",
    "#for every time the command below is ran (w/ seed = 42), the \"random\" numbers will be the same because the seed is 42. like minecraft\n",
    "planets = np.random.randint(100, 1000, size=(5, 5))\n",
    "print(planets)"
   ]
  },
  {
   "cell_type": "code",
   "execution_count": 255,
   "id": "e1a1da36-b601-4c3b-892a-6a679e0e3c62",
   "metadata": {},
   "outputs": [],
   "source": [
    "def secondLargest(array_2):\n",
    "    #initialize an empty array to hold results\n",
    "    second_largest_values_collection = np.empty(array.shape[1])\n",
    "    "
   ]
  },
  {
   "cell_type": "code",
   "execution_count": null,
   "id": "8cc1af4a-0c69-4f2f-a0d8-dab8e1827840",
   "metadata": {},
   "outputs": [],
   "source": []
  }
 ],
 "metadata": {
  "kernelspec": {
   "display_name": "Python 3 (ipykernel)",
   "language": "python",
   "name": "python3"
  },
  "language_info": {
   "codemirror_mode": {
    "name": "ipython",
    "version": 3
   },
   "file_extension": ".py",
   "mimetype": "text/x-python",
   "name": "python",
   "nbconvert_exporter": "python",
   "pygments_lexer": "ipython3",
   "version": "3.12.4"
  }
 },
 "nbformat": 4,
 "nbformat_minor": 5
}
